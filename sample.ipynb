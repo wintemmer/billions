{
 "cells": [
  {
   "cell_type": "code",
   "execution_count": null,
   "source": [
    "from billions.data_loader import *\r\n",
    "from billions.back_trader import *\r\n",
    "\r\n",
    "fname = 'data/factor.csv'\r\n",
    "cname = 'data/close.csv'\r\n",
    "ftype = 'csv'\r\n",
    "data = load(fname, cname, ftype)\r\n",
    "\r\n",
    "results = []\r\n"
   ],
   "outputs": [],
   "metadata": {}
  },
  {
   "cell_type": "code",
   "execution_count": null,
   "source": [
    "gt = group_trader(data=data, number=5, amount=100000000,\r\n",
    "                    profolio=euqal_profolio, peride='D', inverse=False)\r\n",
    "gt.run()\r\n",
    "gt.daily.plot()\r\n"
   ],
   "outputs": [],
   "metadata": {}
  },
  {
   "cell_type": "code",
   "execution_count": null,
   "source": [],
   "outputs": [],
   "metadata": {}
  }
 ],
 "metadata": {
  "orig_nbformat": 4,
  "language_info": {
   "name": "python",
   "version": "3.8.8",
   "mimetype": "text/x-python",
   "codemirror_mode": {
    "name": "ipython",
    "version": 3
   },
   "pygments_lexer": "ipython3",
   "nbconvert_exporter": "python",
   "file_extension": ".py"
  },
  "kernelspec": {
   "name": "python3",
   "display_name": "Python 3.8.8 64-bit ('base': conda)"
  },
  "interpreter": {
   "hash": "b3ba2566441a7c06988d0923437866b63cedc61552a5af99d1f4fb67d367b25f"
  }
 },
 "nbformat": 4,
 "nbformat_minor": 2
}