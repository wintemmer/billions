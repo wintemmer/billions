{
 "cells": [
  {
   "cell_type": "markdown",
   "source": [
    "## 测试分组回测（group_trader）"
   ],
   "metadata": {}
  },
  {
   "cell_type": "code",
   "execution_count": 2,
   "source": [
    "from billions.data_loader import *\r\n",
    "from billions.back_trader import *\r\n",
    "\r\n",
    "def test(name, peride):\r\n",
    "    # read data\r\n",
    "    fname = 'data/' + name + '.csv'; cname = 'data/close.csv'; ftype = 'csv'\r\n",
    "    data = loader_factor_close(fname, cname, ftype)\r\n",
    "\r\n",
    "    # run trade\r\n",
    "    gt = group_trader(data, number=5)\r\n",
    "    gt.run(peride=peride)\r\n",
    "    gt.plot(name)\r\n",
    "\r\n",
    "for name in ['betastd', 'corrstd', 'r2']:\r\n",
    "    for peride in ['D', 'M', 20]:\r\n",
    "        test(name, peride)"
   ],
   "outputs": [
    {
     "output_type": "error",
     "ename": "ModuleNotFoundError",
     "evalue": "No module named 'billions'",
     "traceback": [
      "\u001b[1;31m---------------------------------------------------------------------------\u001b[0m",
      "\u001b[1;31mModuleNotFoundError\u001b[0m                       Traceback (most recent call last)",
      "\u001b[1;32m<ipython-input-2-b6b313cfa881>\u001b[0m in \u001b[0;36m<module>\u001b[1;34m\u001b[0m\n\u001b[1;32m----> 1\u001b[1;33m \u001b[1;32mfrom\u001b[0m \u001b[0mbillions\u001b[0m\u001b[1;33m.\u001b[0m\u001b[0mdata_loader\u001b[0m \u001b[1;32mimport\u001b[0m \u001b[1;33m*\u001b[0m\u001b[1;33m\u001b[0m\u001b[1;33m\u001b[0m\u001b[0m\n\u001b[0m\u001b[0;32m      2\u001b[0m \u001b[1;32mfrom\u001b[0m \u001b[0mbillions\u001b[0m\u001b[1;33m.\u001b[0m\u001b[0mback_trader\u001b[0m \u001b[1;32mimport\u001b[0m \u001b[1;33m*\u001b[0m\u001b[1;33m\u001b[0m\u001b[1;33m\u001b[0m\u001b[0m\n\u001b[0;32m      3\u001b[0m \u001b[1;33m\u001b[0m\u001b[0m\n\u001b[0;32m      4\u001b[0m \u001b[1;32mdef\u001b[0m \u001b[0mtest\u001b[0m\u001b[1;33m(\u001b[0m\u001b[0mname\u001b[0m\u001b[1;33m,\u001b[0m \u001b[0mperide\u001b[0m\u001b[1;33m)\u001b[0m\u001b[1;33m:\u001b[0m\u001b[1;33m\u001b[0m\u001b[1;33m\u001b[0m\u001b[0m\n\u001b[0;32m      5\u001b[0m     \u001b[1;31m# read data\u001b[0m\u001b[1;33m\u001b[0m\u001b[1;33m\u001b[0m\u001b[1;33m\u001b[0m\u001b[0m\n",
      "\u001b[1;31mModuleNotFoundError\u001b[0m: No module named 'billions'"
     ]
    }
   ],
   "metadata": {}
  },
  {
   "cell_type": "markdown",
   "source": [
    "## 测试海龟"
   ],
   "metadata": {}
  },
  {
   "cell_type": "code",
   "execution_count": null,
   "source": [
    "from billions.data_loader import *\r\n",
    "from billions.back_trader import *\r\n",
    "\r\n",
    "class turtle(trader):\r\n",
    "    def __init__(self, data, total_amount=1000000, peride='D'):\r\n",
    "        super().__init__(data, total_amount=total_amount, peride=peride)\r\n",
    "        self.codes = np.unique(np.array(list(data.index))[:, 1])\r\n",
    "\r\n",
    "        self.data = data\r\n",
    "\r\n",
    "    def trade(self, date, prices):\r\n",
    "        for code in self.codes:\r\n",
    "            today = self.data.loc[date, code]\r\n",
    "\r\n",
    "            if today.close > today.up:\r\n",
    "                self.profolio.buy(code, 100, prices[code])\r\n",
    "\r\n",
    "            if today.close < today.down:\r\n",
    "                if code in self.profolio.profolio.keys():\r\n",
    "                    self.profolio.sell(code, self.profolio.profolio[code]['amount'], prices[code])\r\n",
    "                # self.profolio.sell(code, today.close*100)\r\n"
   ],
   "outputs": [],
   "metadata": {}
  },
  {
   "cell_type": "code",
   "execution_count": null,
   "source": [
    "data = load_price('data/600000.csv')\r\n",
    "data['up'] = data['high'].shift().rolling(20).apply(np.max, raw=False)\r\n",
    "data['down'] = data['low'].shift().rolling(20).apply(np.min, raw=False)\r\n",
    "data['pre_close'] = data['close'].shift()\r\n",
    "data = data[20:]\r\n",
    "\r\n",
    "t = turtle(data)\r\n",
    "t.run()\r\n",
    "p = t.ploter()\r\n",
    "p.plot()\r\n"
   ],
   "outputs": [],
   "metadata": {}
  }
 ],
 "metadata": {
  "orig_nbformat": 4,
  "language_info": {
   "name": "python",
   "version": "3.8.8",
   "mimetype": "text/x-python",
   "codemirror_mode": {
    "name": "ipython",
    "version": 3
   },
   "pygments_lexer": "ipython3",
   "nbconvert_exporter": "python",
   "file_extension": ".py"
  },
  "kernelspec": {
   "name": "python3",
   "display_name": "Python 3.8.8 64-bit ('base': conda)"
  },
  "interpreter": {
   "hash": "b3ba2566441a7c06988d0923437866b63cedc61552a5af99d1f4fb67d367b25f"
  }
 },
 "nbformat": 4,
 "nbformat_minor": 2
}